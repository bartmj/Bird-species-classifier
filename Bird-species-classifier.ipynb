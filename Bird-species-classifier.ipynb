{
 "cells": [
  {
   "cell_type": "code",
   "execution_count": 1,
   "id": "fad63933",
   "metadata": {
    "execution": {
     "iopub.execute_input": "2024-01-08T12:18:48.153466Z",
     "iopub.status.busy": "2024-01-08T12:18:48.152777Z",
     "iopub.status.idle": "2024-01-08T12:18:48.161427Z",
     "shell.execute_reply": "2024-01-08T12:18:48.160699Z",
     "shell.execute_reply.started": "2024-01-08T12:18:48.153440Z"
    }
   },
   "outputs": [],
   "source": [
    "# !pip install fastbook"
   ]
  },
  {
   "cell_type": "code",
   "execution_count": 2,
   "id": "4733532d",
   "metadata": {
    "execution": {
     "iopub.execute_input": "2024-01-08T12:18:48.163052Z",
     "iopub.status.busy": "2024-01-08T12:18:48.162763Z",
     "iopub.status.idle": "2024-01-08T12:18:48.166005Z",
     "shell.execute_reply": "2024-01-08T12:18:48.165432Z",
     "shell.execute_reply.started": "2024-01-08T12:18:48.163031Z"
    }
   },
   "outputs": [],
   "source": [
    "#hide\n",
    "# ! [ -e /content ] && pip install -Uqq fastbook\n",
    "# import fastbook\n",
    "# fastbook.setup_book()"
   ]
  },
  {
   "cell_type": "markdown",
   "id": "38a19bb4",
   "metadata": {
    "execution": {
     "iopub.execute_input": "2024-01-08T12:31:05.733510Z",
     "iopub.status.busy": "2024-01-08T12:31:05.733089Z",
     "iopub.status.idle": "2024-01-08T12:31:05.736144Z",
     "shell.execute_reply": "2024-01-08T12:31:05.735599Z",
     "shell.execute_reply.started": "2024-01-08T12:31:05.733486Z"
    }
   },
   "source": [
    "# Imports"
   ]
  },
  {
   "cell_type": "code",
   "execution_count": 3,
   "id": "cd106f58",
   "metadata": {
    "execution": {
     "iopub.execute_input": "2024-01-08T12:18:48.166756Z",
     "iopub.status.busy": "2024-01-08T12:18:48.166598Z",
     "iopub.status.idle": "2024-01-08T12:18:48.170854Z",
     "shell.execute_reply": "2024-01-08T12:18:48.170187Z",
     "shell.execute_reply.started": "2024-01-08T12:18:48.166742Z"
    }
   },
   "outputs": [],
   "source": [
    "from fastbook import *\n",
    "from fastai.vision.all import *\n",
    "from ipywidgets import VBox\n",
    "# from fastai.vision.widgets import *\n",
    "# from PIL import Image\n",
    "# import requests\n",
    "# from io import BytesIO"
   ]
  },
  {
   "cell_type": "markdown",
   "id": "286b1877",
   "metadata": {
    "execution": {
     "iopub.execute_input": "2024-01-08T12:18:48.171679Z",
     "iopub.status.busy": "2024-01-08T12:18:48.171522Z",
     "iopub.status.idle": "2024-01-08T12:18:48.174511Z",
     "shell.execute_reply": "2024-01-08T12:18:48.173989Z",
     "shell.execute_reply.started": "2024-01-08T12:18:48.171665Z"
    }
   },
   "source": [
    "# Downloading files"
   ]
  },
  {
   "cell_type": "code",
   "execution_count": 4,
   "id": "74e04fa9",
   "metadata": {
    "execution": {
     "iopub.execute_input": "2024-01-08T12:18:48.176109Z",
     "iopub.status.busy": "2024-01-08T12:18:48.175943Z",
     "iopub.status.idle": "2024-01-08T12:18:48.178849Z",
     "shell.execute_reply": "2024-01-08T12:18:48.178308Z",
     "shell.execute_reply.started": "2024-01-08T12:18:48.176094Z"
    }
   },
   "outputs": [],
   "source": [
    "# def search_images(term, max_images=30):\n",
    "#     print(f\"Searching for '{term}'\")\n",
    "#     return L(search_images_ddg(term, max_images=max_images))"
   ]
  },
  {
   "cell_type": "code",
   "execution_count": 5,
   "id": "1b1c07f3",
   "metadata": {
    "execution": {
     "iopub.execute_input": "2024-01-08T12:18:48.179809Z",
     "iopub.status.busy": "2024-01-08T12:18:48.179657Z",
     "iopub.status.idle": "2024-01-08T12:18:48.182660Z",
     "shell.execute_reply": "2024-01-08T12:18:48.182079Z",
     "shell.execute_reply.started": "2024-01-08T12:18:48.179795Z"
    }
   },
   "outputs": [],
   "source": [
    "# searches = 'Sikorka modraszka','Sikorka czarnogłówka','Sikorka uboga','Sikorka sosnówka','Sikorka czubatka','Sikorka lazurowa'\n",
    "# path = Path('sikorki')\n",
    "# from time import sleep\n",
    "\n",
    "# # max number of pictures for each search max_pics\n",
    "# max_pics = 30\n",
    "# for o in searches:\n",
    "#     dest = (path/o)\n",
    "#     dest.mkdir(exist_ok=True, parents=True)\n",
    "#     download_images(dest, urls=search_images(f'{o} photo'), max_pics=max_pics)\n",
    "#     sleep(10)  # Pause between searches to avoid over-loading server\n",
    "#     resize_images(path/o, max_size=400, dest=path/o)"
   ]
  },
  {
   "cell_type": "markdown",
   "id": "8e34e6da",
   "metadata": {
    "execution": {
     "iopub.execute_input": "2024-01-08T12:18:48.183709Z",
     "iopub.status.busy": "2024-01-08T12:18:48.183550Z",
     "iopub.status.idle": "2024-01-08T12:18:48.186827Z",
     "shell.execute_reply": "2024-01-08T12:18:48.186185Z",
     "shell.execute_reply.started": "2024-01-08T12:18:48.183695Z"
    }
   },
   "source": [
    "# Training"
   ]
  },
  {
   "cell_type": "code",
   "execution_count": 6,
   "id": "2616fb90",
   "metadata": {
    "execution": {
     "iopub.execute_input": "2024-01-08T12:18:48.187819Z",
     "iopub.status.busy": "2024-01-08T12:18:48.187654Z",
     "iopub.status.idle": "2024-01-08T12:18:48.191264Z",
     "shell.execute_reply": "2024-01-08T12:18:48.190235Z",
     "shell.execute_reply.started": "2024-01-08T12:18:48.187805Z"
    }
   },
   "outputs": [],
   "source": [
    "# failed = verify_images(get_image_files(path))\n",
    "# failed.map(Path.unlink)\n",
    "# len(failed)"
   ]
  },
  {
   "cell_type": "code",
   "execution_count": 7,
   "id": "bbf7d329",
   "metadata": {
    "execution": {
     "iopub.execute_input": "2024-01-08T12:18:48.192479Z",
     "iopub.status.busy": "2024-01-08T12:18:48.192294Z",
     "iopub.status.idle": "2024-01-08T12:18:48.195099Z",
     "shell.execute_reply": "2024-01-08T12:18:48.194467Z",
     "shell.execute_reply.started": "2024-01-08T12:18:48.192464Z"
    }
   },
   "outputs": [],
   "source": [
    "# path = Path('sikorki')"
   ]
  },
  {
   "cell_type": "code",
   "execution_count": 8,
   "id": "c4740396",
   "metadata": {
    "execution": {
     "iopub.execute_input": "2024-01-08T12:18:48.259713Z",
     "iopub.status.busy": "2024-01-08T12:18:48.259472Z",
     "iopub.status.idle": "2024-01-08T12:18:48.262846Z",
     "shell.execute_reply": "2024-01-08T12:18:48.262252Z",
     "shell.execute_reply.started": "2024-01-08T12:18:48.259695Z"
    }
   },
   "outputs": [],
   "source": [
    "# dls = DataBlock(\n",
    "#     blocks=(ImageBlock, CategoryBlock), \n",
    "#     get_items=get_image_files, \n",
    "#     splitter=RandomSplitter(valid_pct=0.2, seed=42),\n",
    "#     get_y=parent_label,\n",
    "#     item_tfms=[Resize(192, method='squish')]\n",
    "# ).dataloaders(path, bs=32)\n",
    "\n",
    "# dls.show_batch(max_n=6)"
   ]
  },
  {
   "cell_type": "code",
   "execution_count": 9,
   "id": "c7094244",
   "metadata": {
    "execution": {
     "iopub.execute_input": "2024-01-08T12:18:48.265011Z",
     "iopub.status.busy": "2024-01-08T12:18:48.264263Z",
     "iopub.status.idle": "2024-01-08T12:18:48.267569Z",
     "shell.execute_reply": "2024-01-08T12:18:48.266958Z",
     "shell.execute_reply.started": "2024-01-08T12:18:48.264988Z"
    }
   },
   "outputs": [],
   "source": [
    "# learn = vision_learner(dls, resnet18, metrics=error_rate)\n",
    "# learn.fine_tune(4)"
   ]
  },
  {
   "cell_type": "code",
   "execution_count": 10,
   "id": "8cbc2292",
   "metadata": {
    "execution": {
     "iopub.execute_input": "2024-01-08T12:18:48.268792Z",
     "iopub.status.busy": "2024-01-08T12:18:48.268603Z",
     "iopub.status.idle": "2024-01-08T12:18:48.271649Z",
     "shell.execute_reply": "2024-01-08T12:18:48.271113Z",
     "shell.execute_reply.started": "2024-01-08T12:18:48.268774Z"
    }
   },
   "outputs": [],
   "source": [
    "# Use a model"
   ]
  },
  {
   "cell_type": "code",
   "execution_count": 11,
   "id": "28423604",
   "metadata": {
    "execution": {
     "iopub.execute_input": "2024-01-08T12:18:48.272300Z",
     "iopub.status.busy": "2024-01-08T12:18:48.272155Z",
     "iopub.status.idle": "2024-01-08T12:18:48.275659Z",
     "shell.execute_reply": "2024-01-08T12:18:48.275162Z",
     "shell.execute_reply.started": "2024-01-08T12:18:48.272287Z"
    }
   },
   "outputs": [],
   "source": [
    "# # Checking different images from the internet\n",
    "\n",
    "# # url = 'https://fera.pl/images/companies/1/xsikorka-uboga.png,q1673818472634.pagespeed.ic.KGAlniXx-K.jpg'\n",
    "# # url = 'https://encrypted-tbn0.gstatic.com/images?q=tbn:ANd9GcQ6iiVFnrrINTlNo6WF1Yyz5ZWd_ZKG5e5zXg&usqp=CAU'\n",
    "# # url = 'https://encrypted-tbn0.gstatic.com/images?q=tbn:ANd9GcS7HMtOAuQPzNpgiU58SUUH1-E7BtfWpz90ug&usqp=CAU'\n",
    "# url = 'https://encrypted-tbn0.gstatic.com/images?q=tbn:ANd9GcRdB-pJAMsIeSm3KCn__8TUHuFoCQfcNPUM0Q&usqp=CAU'\n",
    "\n",
    "# response = requests.get(url)\n",
    "# my_img = Image.open(BytesIO(response.content))\n",
    "# my_img.to_thumb(256,256)\n",
    "# species, _, probs = learn.predict(my_img)\n",
    "# print(f\"Prediction: {species}.\")\n",
    "# print(f\"Prob: {probs}.\")\n",
    "\n",
    "# my_img.to_thumb(256,256)"
   ]
  },
  {
   "cell_type": "code",
   "execution_count": 12,
   "id": "47eb6d7a",
   "metadata": {
    "execution": {
     "iopub.execute_input": "2024-01-08T12:18:48.277534Z",
     "iopub.status.busy": "2024-01-08T12:18:48.277369Z",
     "iopub.status.idle": "2024-01-08T12:18:48.280084Z",
     "shell.execute_reply": "2024-01-08T12:18:48.279582Z",
     "shell.execute_reply.started": "2024-01-08T12:18:48.277520Z"
    }
   },
   "outputs": [],
   "source": [
    "# Saving the model"
   ]
  },
  {
   "cell_type": "code",
   "execution_count": 13,
   "id": "5759a04b",
   "metadata": {
    "execution": {
     "iopub.execute_input": "2024-01-08T12:18:48.280994Z",
     "iopub.status.busy": "2024-01-08T12:18:48.280845Z",
     "iopub.status.idle": "2024-01-08T12:18:48.283414Z",
     "shell.execute_reply": "2024-01-08T12:18:48.282882Z",
     "shell.execute_reply.started": "2024-01-08T12:18:48.280981Z"
    }
   },
   "outputs": [],
   "source": [
    "# learn.export()"
   ]
  },
  {
   "cell_type": "markdown",
   "id": "88523868",
   "metadata": {
    "execution": {
     "iopub.execute_input": "2024-01-08T12:30:35.730618Z",
     "iopub.status.busy": "2024-01-08T12:30:35.729888Z",
     "iopub.status.idle": "2024-01-08T12:30:35.733370Z",
     "shell.execute_reply": "2024-01-08T12:30:35.732776Z",
     "shell.execute_reply.started": "2024-01-08T12:30:35.730595Z"
    }
   },
   "source": [
    "# Deployment"
   ]
  },
  {
   "cell_type": "code",
   "execution_count": 14,
   "id": "cd030645",
   "metadata": {
    "execution": {
     "iopub.execute_input": "2024-01-08T12:18:48.284084Z",
     "iopub.status.busy": "2024-01-08T12:18:48.283931Z",
     "iopub.status.idle": "2024-01-08T12:18:48.287383Z",
     "shell.execute_reply": "2024-01-08T12:18:48.286643Z",
     "shell.execute_reply.started": "2024-01-08T12:18:48.284065Z"
    }
   },
   "outputs": [
    {
     "data": {
      "text/plain": [
       "(#1) [Path('export.pkl')]"
      ]
     },
     "execution_count": 14,
     "metadata": {},
     "output_type": "execute_result"
    }
   ],
   "source": [
    "path = Path()\n",
    "path.ls(file_exts='.pkl')"
   ]
  },
  {
   "cell_type": "code",
   "execution_count": 15,
   "id": "d13baa52",
   "metadata": {
    "execution": {
     "iopub.execute_input": "2024-01-08T12:18:48.288723Z",
     "iopub.status.busy": "2024-01-08T12:18:48.288506Z",
     "iopub.status.idle": "2024-01-08T12:18:48.342442Z",
     "shell.execute_reply": "2024-01-08T12:18:48.341821Z",
     "shell.execute_reply.started": "2024-01-08T12:18:48.288703Z"
    }
   },
   "outputs": [],
   "source": [
    "learn_inf = load_learner(path/'export.pkl', cpu=True)"
   ]
  },
  {
   "cell_type": "code",
   "execution_count": 16,
   "id": "e507de54",
   "metadata": {
    "execution": {
     "iopub.execute_input": "2024-01-08T12:18:48.343671Z",
     "iopub.status.busy": "2024-01-08T12:18:48.343437Z",
     "iopub.status.idle": "2024-01-08T12:18:48.349269Z",
     "shell.execute_reply": "2024-01-08T12:18:48.348593Z",
     "shell.execute_reply.started": "2024-01-08T12:18:48.343646Z"
    }
   },
   "outputs": [],
   "source": [
    "btn_upload = widgets.FileUpload()"
   ]
  },
  {
   "cell_type": "code",
   "execution_count": 17,
   "id": "36400c65",
   "metadata": {
    "execution": {
     "iopub.execute_input": "2024-01-08T12:18:48.350791Z",
     "iopub.status.busy": "2024-01-08T12:18:48.350345Z",
     "iopub.status.idle": "2024-01-08T12:18:48.355665Z",
     "shell.execute_reply": "2024-01-08T12:18:48.355010Z",
     "shell.execute_reply.started": "2024-01-08T12:18:48.350765Z"
    }
   },
   "outputs": [],
   "source": [
    "out_pl = widgets.Output()"
   ]
  },
  {
   "cell_type": "code",
   "execution_count": 18,
   "id": "e6ce79c5",
   "metadata": {
    "execution": {
     "iopub.execute_input": "2024-01-08T12:18:48.357037Z",
     "iopub.status.busy": "2024-01-08T12:18:48.356797Z",
     "iopub.status.idle": "2024-01-08T12:18:48.362355Z",
     "shell.execute_reply": "2024-01-08T12:18:48.361705Z",
     "shell.execute_reply.started": "2024-01-08T12:18:48.357011Z"
    }
   },
   "outputs": [],
   "source": [
    "lbl_pred = widgets.Label()"
   ]
  },
  {
   "cell_type": "code",
   "execution_count": 19,
   "id": "5bda2301",
   "metadata": {
    "execution": {
     "iopub.execute_input": "2024-01-08T12:18:48.363980Z",
     "iopub.status.busy": "2024-01-08T12:18:48.363731Z",
     "iopub.status.idle": "2024-01-08T12:18:48.368430Z",
     "shell.execute_reply": "2024-01-08T12:18:48.367736Z",
     "shell.execute_reply.started": "2024-01-08T12:18:48.363954Z"
    }
   },
   "outputs": [],
   "source": [
    "def on_click(change):\n",
    "    img = PILImage.create(btn_upload.data[-1])\n",
    "    out_pl.clear_output()\n",
    "    with out_pl: display(img.to_thumb(128,128))\n",
    "    pred,pred_idx,probs = learn_inf.predict(img)\n",
    "#     lbl_pred.value = f'Prediction: {pred}. Probability: {probs[pred_idx]*100:.02f}%.'\n",
    "    lbl_pred.layout.width = '100%'\n",
    "    lbl_pred.value = f'Prediction: {pred}: {probs[pred_idx]:.02f}%'"
   ]
  },
  {
   "cell_type": "code",
   "execution_count": 20,
   "id": "8af68bd7",
   "metadata": {
    "execution": {
     "iopub.execute_input": "2024-01-08T12:18:48.369492Z",
     "iopub.status.busy": "2024-01-08T12:18:48.369308Z",
     "iopub.status.idle": "2024-01-08T12:18:48.372529Z",
     "shell.execute_reply": "2024-01-08T12:18:48.372006Z",
     "shell.execute_reply.started": "2024-01-08T12:18:48.369475Z"
    }
   },
   "outputs": [],
   "source": [
    "btn_upload.observe(on_click, names=['data'])"
   ]
  },
  {
   "cell_type": "code",
   "execution_count": 21,
   "id": "f0677ce6",
   "metadata": {
    "execution": {
     "iopub.execute_input": "2024-01-08T12:18:48.374316Z",
     "iopub.status.busy": "2024-01-08T12:18:48.374158Z",
     "iopub.status.idle": "2024-01-08T12:18:48.380916Z",
     "shell.execute_reply": "2024-01-08T12:18:48.380457Z",
     "shell.execute_reply.started": "2024-01-08T12:18:48.374301Z"
    }
   },
   "outputs": [
    {
     "data": {
      "application/vnd.jupyter.widget-view+json": {
       "model_id": "c5e6e7b0efc64ff49ac546e4676ed7fe",
       "version_major": 2,
       "version_minor": 0
      },
      "text/plain": [
       "VBox(children=(Label(value='Upload your Screenshot!'), FileUpload(value={}, description='Upload'), Output(), L…"
      ]
     },
     "metadata": {},
     "output_type": "display_data"
    }
   ],
   "source": [
    "display(VBox([widgets.Label('Upload your Screenshot!'), btn_upload, out_pl, lbl_pred]))"
   ]
  },
  {
   "cell_type": "code",
   "execution_count": null,
   "id": "246203d8",
   "metadata": {},
   "outputs": [],
   "source": []
  }
 ],
 "metadata": {
  "kernelspec": {
   "display_name": "Python 3 (ipykernel)",
   "language": "python",
   "name": "python3"
  },
  "language_info": {
   "codemirror_mode": {
    "name": "ipython",
    "version": 3
   },
   "file_extension": ".py",
   "mimetype": "text/x-python",
   "name": "python",
   "nbconvert_exporter": "python",
   "pygments_lexer": "ipython3",
   "version": "3.7.16"
  }
 },
 "nbformat": 4,
 "nbformat_minor": 5
}
